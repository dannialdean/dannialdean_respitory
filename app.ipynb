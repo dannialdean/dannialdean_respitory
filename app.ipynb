{
 "cells": [
  {
   "cell_type": "code",
   "execution_count": 2,
   "id": "46f5633f",
   "metadata": {},
   "outputs": [
    {
     "name": "stdout",
     "output_type": "stream",
     "text": [
      "My name is adam\n"
     ]
    }
   ],
   "source": [
    "name = 'adam'\n",
    "print(f'My name is {name}')"
   ]
  },
  {
   "cell_type": "code",
   "execution_count": null,
   "id": "06dacb59",
   "metadata": {},
   "outputs": [],
   "source": []
  },
  {
   "cell_type": "code",
   "execution_count": 4,
   "id": "4e68fc69",
   "metadata": {},
   "outputs": [
    {
     "data": {
      "text/plain": [
       "'Adam'"
      ]
     },
     "execution_count": 4,
     "metadata": {},
     "output_type": "execute_result"
    }
   ],
   "source": [
    "name = 'adam'\n",
    "name.capitalize()"
   ]
  },
  {
   "cell_type": "code",
   "execution_count": 5,
   "id": "5fc9c89e",
   "metadata": {},
   "outputs": [
    {
     "data": {
      "text/plain": [
       "'adam'"
      ]
     },
     "execution_count": 5,
     "metadata": {},
     "output_type": "execute_result"
    }
   ],
   "source": [
    "name.lower()"
   ]
  },
  {
   "cell_type": "code",
   "execution_count": null,
   "id": "08d59551",
   "metadata": {},
   "outputs": [],
   "source": [
    "text = 'Malaysia won gold'"
   ]
  },
  {
   "cell_type": "code",
   "execution_count": 8,
   "id": "3eb4d2db",
   "metadata": {},
   "outputs": [
    {
     "data": {
      "text/plain": [
       "'Malaysia won gold'"
      ]
     },
     "execution_count": 8,
     "metadata": {},
     "output_type": "execute_result"
    }
   ],
   "source": [
    "text.replace('Gold','Silver')"
   ]
  },
  {
   "cell_type": "code",
   "execution_count": 9,
   "id": "fe64bc87",
   "metadata": {},
   "outputs": [
    {
     "data": {
      "text/plain": [
       "'Malaysia won Silver'"
      ]
     },
     "execution_count": 9,
     "metadata": {},
     "output_type": "execute_result"
    }
   ],
   "source": [
    "text.replace('gold','Silver')"
   ]
  },
  {
   "cell_type": "code",
   "execution_count": 11,
   "id": "a230e2a8",
   "metadata": {},
   "outputs": [
    {
     "name": "stdout",
     "output_type": "stream",
     "text": [
      "['adam', 'dean', 'danial', 'amar']\n"
     ]
    }
   ],
   "source": [
    "students = [\"adam\",\"dean\",\"danial\"]\n",
    "students.append(\"amar\")\n",
    "print(students)"
   ]
  },
  {
   "cell_type": "code",
   "execution_count": 12,
   "id": "4f4a3c2d",
   "metadata": {},
   "outputs": [
    {
     "name": "stdout",
     "output_type": "stream",
     "text": [
      "['adam', 'amar', 'dean', 'danial']\n"
     ]
    }
   ],
   "source": [
    "students = [\"adam\",\"dean\",\"danial\"]\n",
    "students.insert(1,\"amar\")\n",
    "print(students)"
   ]
  },
  {
   "cell_type": "code",
   "execution_count": 13,
   "id": "8174d224",
   "metadata": {},
   "outputs": [
    {
     "name": "stdout",
     "output_type": "stream",
     "text": [
      "['adam', 'danial', 'dean']\n"
     ]
    }
   ],
   "source": [
    "students = [\"adam\",\"dean\",\"danial\"]\n",
    "students.sort()\n",
    "print(students)"
   ]
  },
  {
   "cell_type": "code",
   "execution_count": 14,
   "id": "bc9a6f59",
   "metadata": {},
   "outputs": [
    {
     "name": "stdout",
     "output_type": "stream",
     "text": [
      "['0.1', '1.3', '1.5']\n"
     ]
    }
   ],
   "source": [
    "height = [\"1.3\",\"0.1\",\"1.5\"]\n",
    "height.sort()\n",
    "print(height)"
   ]
  },
  {
   "cell_type": "code",
   "execution_count": 16,
   "id": "4dc6d0ca",
   "metadata": {},
   "outputs": [
    {
     "name": "stdout",
     "output_type": "stream",
     "text": [
      "True\n"
     ]
    }
   ],
   "source": [
    "students = [\"adam\",\"dean\",\"danial\"]\n",
    "print(\"adam\" in students)"
   ]
  },
  {
   "cell_type": "code",
   "execution_count": 19,
   "id": "ce2ddbf1",
   "metadata": {},
   "outputs": [
    {
     "name": "stdout",
     "output_type": "stream",
     "text": [
      "11\n"
     ]
    }
   ],
   "source": [
    "students_age = {\n",
    "    \"adam\": 11,\n",
    "    \"danial\": 15,\n",
    "    \"amar\": 18\n",
    "}\n",
    "print(students_age[\"adam\"])"
   ]
  },
  {
   "cell_type": "code",
   "execution_count": 1,
   "id": "70d01f68",
   "metadata": {},
   "outputs": [
    {
     "name": "stdout",
     "output_type": "stream",
     "text": [
      "True\n"
     ]
    }
   ],
   "source": [
    "print(5 > 3)"
   ]
  },
  {
   "cell_type": "code",
   "execution_count": 14,
   "id": "61b1bcbe",
   "metadata": {},
   "outputs": [
    {
     "name": "stdout",
     "output_type": "stream",
     "text": [
      "Toddler\n"
     ]
    }
   ],
   "source": [
    "age = 1\n",
    "if age < 2:\n",
    "    print(\"Toddler\")\n",
    "elif age < 8:\n",
    "    print(\"Kid\")\n",
    "\n",
    "else:\n",
    "    print(\"Teenager\")"
   ]
  },
  {
   "cell_type": "code",
   "execution_count": 21,
   "id": "6570015c",
   "metadata": {},
   "outputs": [
    {
     "name": "stdout",
     "output_type": "stream",
     "text": [
      "not hensem\n"
     ]
    }
   ],
   "source": [
    "name = \"fakhrul\"\n",
    "if name ==\"adam\":\n",
    "    print(\"hensem\")\n",
    "else: \n",
    "    print(\"not hensem\")"
   ]
  }
 ],
 "metadata": {
  "kernelspec": {
   "display_name": "Python 3",
   "language": "python",
   "name": "python3"
  },
  "language_info": {
   "codemirror_mode": {
    "name": "ipython",
    "version": 3
   },
   "file_extension": ".py",
   "mimetype": "text/x-python",
   "name": "python",
   "nbconvert_exporter": "python",
   "pygments_lexer": "ipython3",
   "version": "3.12.1"
  }
 },
 "nbformat": 4,
 "nbformat_minor": 5
}
